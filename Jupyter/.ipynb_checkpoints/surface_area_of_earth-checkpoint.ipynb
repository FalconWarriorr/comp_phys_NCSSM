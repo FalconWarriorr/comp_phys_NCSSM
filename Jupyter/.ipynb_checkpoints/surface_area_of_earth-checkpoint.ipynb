{
 "cells": [
  {
   "cell_type": "code",
   "execution_count": 12,
   "metadata": {},
   "outputs": [
    {
     "name": "stdout",
     "output_type": "stream",
     "text": [
      "Standard surface area: \t\t510064471909788\n",
      "Moar complex surface area:\t510065621724079\n"
     ]
    }
   ],
   "source": [
    "from math import pi, atanh, sqrt\n",
    "\n",
    "R = 6.371E6\n",
    "a = 6378137\n",
    "b = 6356752.314245\n",
    "\n",
    "e = sqrt(1-b**2/a**2)\n",
    "\n",
    "print(\"Standard surface area: \\t\\t\" + str(round(4*pi*R**2)))\n",
    "print(\"Moar complex surface area:\\t\" + str(round(2*pi*a**2*(1+(1-e**2)/e*atanh(e)))))\n"
   ]
  }
 ],
 "metadata": {
  "kernelspec": {
   "display_name": "Python 3",
   "language": "python",
   "name": "python3"
  },
  "language_info": {
   "codemirror_mode": {
    "name": "ipython",
    "version": 3
   },
   "file_extension": ".py",
   "mimetype": "text/x-python",
   "name": "python",
   "nbconvert_exporter": "python",
   "pygments_lexer": "ipython3",
   "version": "3.5.2"
  }
 },
 "nbformat": 4,
 "nbformat_minor": 2
}
