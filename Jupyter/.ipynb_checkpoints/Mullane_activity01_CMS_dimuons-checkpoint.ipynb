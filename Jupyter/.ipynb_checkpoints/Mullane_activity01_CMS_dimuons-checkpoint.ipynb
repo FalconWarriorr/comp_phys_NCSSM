{
 "cells": [
  {
   "cell_type": "markdown",
   "metadata": {},
   "source": [
    "##   Author:  Niall Mullane\n",
    "###     PID:  99S380224\n",
    "##   Class:  PH412, Spring, 2018                                          \n",
    "###     Helpers:  Meekhel Patel\n",
    "\n",
    "##  Program:  CMS Dimuons                                     \n",
    "###     Due Date:  April 4, 2019                                               \n",
    "###     Language:  Python 3                 \n",
    "###     IDE:  Jupyter     \n",
    "\n",
    "##  Purpose:  Plotting dimuon data       \n",
    "##   \"Bugs\":  No major problems  \n"
   ]
  },
  {
   "cell_type": "markdown",
   "metadata": {
    "colab_type": "text",
    "id": "MQTLrSzVmTgH"
   },
   "source": [
    "**How to save this notebook to your personal Drive**\n",
    "\n",
    "To copy this notebook to your Google Drive, go to File and select \"Save a copy in Drive\", where it will automatically open the copy in a new tab for you to work in. This notebook will be saved into a folder on your personal Drive called \"Colab Notebooks\".\n",
    "\n",
    "\n",
    "Still stumped? Check out <a href=\"https://www.youtube.com/watch?v=qaJ2UpMPXKk\"> this video</a> for help"
   ]
  },
  {
   "cell_type": "markdown",
   "metadata": {
    "colab_type": "text",
    "id": "ChEwEkRfCRMJ"
   },
   "source": [
    "# Looking at the dimuon spectrum over a wide energy range"
   ]
  },
  {
   "cell_type": "markdown",
   "metadata": {
    "colab_type": "text",
    "id": "5Q3czKXICRMN"
   },
   "source": [
    "<h3>Learning goals</h3>\n",
    "<ul>\n",
    "    <li>Relativistic kinematics.\n",
    "    <li>Mesons.\n",
    "</ul>"
   ]
  },
  {
   "cell_type": "markdown",
   "metadata": {
    "colab_type": "text",
    "id": "-EQWisz_CRMQ"
   },
   "source": [
    "<b>Background</b>\n",
    "\n",
    "To determine the mass ($m$) of a particle you need to know the 4-momenta of the particles ($\\mathbf{P}$) that are detected after the collision: the energy ($E$), the momentum in the x direction ($p_x$), the momentum in the y direction ($p_y$), the momentum in the z direction ($p_z$).\n",
    "\n",
    "$$\\mathbf{P} = (E,p_x,p_y,p_z)$$\n",
    "\n",
    "\n",
    "\\begin{equation*} m = \\sqrt{E^2-(p_x^2+p_y^2 + p_z^2)} \\end{equation*}\n",
    "\n",
    "Some particles are very unstable and decay (turn into) to two or more other particles. In fact, they can decay so quickly, that they never interact with your detector! Yikes!\n",
    "\n",
    "However, we can reconstruct the parent particle (sometimes referred to as <b>the initial state particle</b>) and its 4-momentum by adding the 4-momenta of the child particles (sometimes referred to as <b>the decay products</b>). \n",
    "\n",
    "$$\\mathbf{P_{\\rm parent}} = \\mathbf{P_{\\rm child 0}} + \\mathbf{P_{\\rm child 1}} + \\mathbf{P_{\\rm child 2}} + ...$$\n",
    "\n",
    "\n",
    "\n",
    "which breaks down into...\n",
    "\n",
    "$$E_{\\rm parent} = E_{\\rm child 0} + E_{\\rm child 1} + E_{\\rm child 2} + ...$$\n",
    "\n",
    "$$p_{\\rm x parent} = p_{\\rm x child 0} + p_{\\rm x child 1} + p_{\\rm x child 2} + ...$$\n",
    "\n",
    "$$p_{\\rm y parent} = p_{\\rm y child 0} + p_{\\rm y child 1} + p_{\\rm y child 2} + ...$$\n",
    "\n",
    "$$p_{\\rm z parent} = p_{\\rm z child 0} + p_{\\rm y child 1} + p_{\\rm z child 2} + ...$$\n"
   ]
  },
  {
   "cell_type": "markdown",
   "metadata": {
    "colab_type": "text",
    "id": "rQR8GLXUCRMS"
   },
   "source": [
    "<b>Let's code!</b>\n",
    "\n",
    "Here is some very, very basic starter code. It reads in data from the CMS experiment. \n",
    "\n",
    "If you haven't already, you will want to go through the <a href=\"https://colab.research.google.com/drive/1TFvNoq-i8isZoAwnZubRnNM0CrMGXUmP\">CMS data model</a> (also included when you cloned this directory) exercise so you know how to pull out the relevant information. \n",
    "\n",
    "The following example runs with 1000 events that are included with this repository. To better see the full phyiscs, you can download a bigger file, <code>dimuons_100k.dat</code>. To download this file, see the <a href=\"https://colab.research.google.com/drive/174AUxy9qTqQ1XndbJW_Wryz9m95QZRIk\">download_more_data</a> exercise, also included in this repository.\n",
    "\n",
    "<b>NOTE: If you are getting an error saying that there is no module \"pps_tools\", go to Runtime, and then select Restart runtime. Also make sure that your runtime type is Python 3. </b>"
   ]
  },
  {
   "cell_type": "code",
   "execution_count": 1,
   "metadata": {
    "colab": {
     "base_uri": "https://localhost:8080/",
     "height": 88
    },
    "colab_type": "code",
    "executionInfo": {
     "elapsed": 5988,
     "status": "ok",
     "timestamp": 1548302830868,
     "user": {
      "displayName": "Daniel Whinnery",
      "photoUrl": "https://lh3.googleusercontent.com/-csDkn6LulSM/AAAAAAAAAAI/AAAAAAAAAIY/0OMcnBRLflM/s64/photo.jpg",
      "userId": "09704976331001287367"
     },
     "user_tz": 300
    },
    "id": "WUK5VelECRMT",
    "outputId": "54867013-d56f-494b-e139-d2447dd81388"
   },
   "outputs": [
    {
     "name": "stdout",
     "output_type": "stream",
     "text": [
      "Already up-to-date.\n",
      "At least Python 3.3 is required.\n",
      "Cloning into 'particle_physics_simplified'...\n",
      "remote: Enumerating objects: 324, done.\u001b[K\n",
      "remote: Total 324 (delta 0), reused 0 (delta 0), pack-reused 324\u001b[K\n",
      "Receiving objects: 100% (324/324), 115.71 KiB | 3.51 MiB/s, done.\n",
      "Resolving deltas: 100% (214/214), done.\n",
      "Already up-to-date.\n",
      "At least Python 3.3 is required.\n"
     ]
    }
   ],
   "source": [
    "###### This cell need only be run once per session ##########\n",
    "###### Make sure your runtime type is Python 3  ############\n",
    "\n",
    "# Import h5hep from Github. This is to allow us to read these\n",
    "# particular files. \n",
    "!if [ ! -e h5hep ]; then git  clone https://github.com/mattbellis/h5hep.git; fi \n",
    "!cd h5hep; git pull; python setup.py -q install --user \n",
    "\n",
    "# Import custom tools package from Github. These are some simple accessor functions\n",
    "# to make it easier to work with these data files. \n",
    "!if [ ! -e particle_physics_simplified ]; then git  clone https://github.com/mattbellis/particle_physics_simplified.git; fi\n",
    "!cd particle_physics_simplified; git pull; python setup.py -q install --user\n",
    "\n",
    "# Note that the -q option in the above \"python setup.py ...\" commands suppresses\n",
    "# diagnostic output. So if you are having issues, you may want to remove the -q\n",
    "\n",
    "import pps_tools as pps\n",
    "import h5hep"
   ]
  },
  {
   "cell_type": "code",
   "execution_count": 2,
   "metadata": {
    "colab": {},
    "colab_type": "code",
    "id": "lORskPqMV6bc"
   },
   "outputs": [
    {
     "name": "stdout",
     "output_type": "stream",
     "text": [
      "Collecting git+https://github.com/mattbellis/h5hep.git\n",
      "  Cloning https://github.com/mattbellis/h5hep.git to /tmp/pip-req-build-5kd1r5es\n",
      "Requirement already satisfied, skipping upgrade: numpy in /home/niallmullane/.local/lib/python3.5/site-packages (from h5hep==0.9) (1.15.2)\n",
      "Requirement already satisfied, skipping upgrade: h5py in /home/niallmullane/.local/lib/python3.5/site-packages (from h5hep==0.9) (2.9.0)\n",
      "Requirement already satisfied, skipping upgrade: six in /home/niallmullane/.local/lib/python3.5/site-packages (from h5py->h5hep==0.9) (1.11.0)\n",
      "Building wheels for collected packages: h5hep\n",
      "  Running setup.py bdist_wheel for h5hep ... \u001b[?25ldone\n",
      "\u001b[?25h  Stored in directory: /tmp/pip-ephem-wheel-cache-ltb3ukqz/wheels/1b/5b/88/a70717ae86e789eccefe91a5f3d068353d7dd93a372da84014\n",
      "Successfully built h5hep\n",
      "Installing collected packages: h5hep\n",
      "  Found existing installation: h5hep 0.9\n",
      "    Uninstalling h5hep-0.9:\n",
      "      Successfully uninstalled h5hep-0.9\n",
      "Successfully installed h5hep-0.9\n",
      "\u001b[33mYou are using pip version 18.0, however version 19.0.3 is available.\n",
      "You should consider upgrading via the 'pip install --upgrade pip' command.\u001b[0m\n",
      "Collecting git+https://github.com/mattbellis/particle_physics_simplified.git\n",
      "  Cloning https://github.com/mattbellis/particle_physics_simplified.git to /tmp/pip-req-build-wi5m15h9\n",
      "Requirement already satisfied, skipping upgrade: numpy in /home/niallmullane/.local/lib/python3.5/site-packages (from particle-physics-simplified==0.9) (1.15.2)\n",
      "Requirement already satisfied, skipping upgrade: h5py in /home/niallmullane/.local/lib/python3.5/site-packages (from particle-physics-simplified==0.9) (2.9.0)\n",
      "Requirement already satisfied, skipping upgrade: h5hep in /home/niallmullane/.local/lib/python3.5/site-packages (from particle-physics-simplified==0.9) (0.9)\n",
      "Requirement already satisfied, skipping upgrade: six in /home/niallmullane/.local/lib/python3.5/site-packages (from h5py->particle-physics-simplified==0.9) (1.11.0)\n",
      "Building wheels for collected packages: particle-physics-simplified\n",
      "  Running setup.py bdist_wheel for particle-physics-simplified ... \u001b[?25ldone\n",
      "\u001b[?25h  Stored in directory: /tmp/pip-ephem-wheel-cache-oi2hu_7u/wheels/1a/aa/e5/a3256c3dc3cbdff623e6512edecdf9d8e7f6139f4db50797eb\n",
      "Successfully built particle-physics-simplified\n",
      "Installing collected packages: particle-physics-simplified\n",
      "  Found existing installation: particle-physics-simplified 0.9\n",
      "    Uninstalling particle-physics-simplified-0.9:\n",
      "      Successfully uninstalled particle-physics-simplified-0.9\n",
      "Successfully installed particle-physics-simplified-0.9\n",
      "\u001b[33mYou are using pip version 18.0, however version 19.0.3 is available.\n",
      "You should consider upgrading via the 'pip install --upgrade pip' command.\u001b[0m\n"
     ]
    }
   ],
   "source": [
    "###### This cell need only be run once per session ############################\n",
    "##\n",
    "\n",
    "!pip3 install git+https://github.com/mattbellis/h5hep.git --user --upgrade\n",
    "!pip3 install git+https://github.com/mattbellis/particle_physics_simplified.git --user --upgrade\n",
    "\n",
    "import h5hep\n",
    "import pps_tools as pps\n",
    "\n",
    "# Fetch data file\n",
    "pps.download_from_drive('dimuons_100k.hdf5')"
   ]
  },
  {
   "cell_type": "code",
   "execution_count": 3,
   "metadata": {
    "colab": {},
    "colab_type": "code",
    "id": "qWiWkwKOIB7o"
   },
   "outputs": [
    {
     "name": "stdout",
     "output_type": "stream",
     "text": [
      "\n",
      "Building a simplified interface to the events...\n",
      "\n",
      "Building the indices...\n",
      "Built the indices!\n",
      "Data is read in and input file is closed.\n",
      "Reading in event  0\n",
      "Reading in event  10000\n",
      "Reading in event  20000\n",
      "Reading in event  30000\n",
      "Reading in event  40000\n",
      "Reading in event  50000\n",
      "Reading in event  60000\n",
      "Reading in event  70000\n",
      "Reading in event  80000\n",
      "Reading in event  90000\n"
     ]
    }
   ],
   "source": [
    "# open and read data file\n",
    "infile = 'data/dimuons_100k.hdf5'\n",
    "collisions = pps.get_collisions(infile,experiment='CMS',verbose=False)"
   ]
  },
  {
   "cell_type": "markdown",
   "metadata": {
    "colab_type": "text",
    "id": "Q5_Ws3DgCRMe"
   },
   "source": [
    "<h2><font color=\"red\">Challenge!</font></h2>\n",
    "\n",
    "Use the sample code to find the mass of the particle that the two muons came from (parent particle). \n",
    "\n",
    "To do this, you will need to loop over all pairs of muons for each collision, sum their 4-momenta (energy, px, py, and pz) and then use that to calculate the invariant mass. \n",
    "\n",
    "Do this for all possible pairs and in addition, break it down so that you calculate the invariant mass for the cases where:\n",
    "* Both muons are positively charged.\n",
    "* Both muons are negatively charged.\n",
    "* The muons have opposite charges.\n",
    "\n",
    "Be careful. Some collisions may have more than 2 muons, so write your code such that it calculates all possible pairs of muons in a given collisions. For example, if there are 3 muons in a collision, there are 3 possible pairs that you can make. \n",
    "\n",
    "<i>Hint!</i>\n",
    "\n",
    "It is very likely that a particle exists where there is a peak in the data. However, this is not always true. \n",
    "A peak in the data is most likely the mass of a particle. You can look at the approximate mass to figure out which particle \n",
    "is found in the data."
   ]
  },
  {
   "cell_type": "markdown",
   "metadata": {
    "colab_type": "text",
    "id": "Q1GLOtOfCRMg"
   },
   "source": [
    "Your histogram should look something like the following sketch. The value of the peaks should be the mass of a particle. You should be able to find two particles in their ground state. <a href=\"http://en.wikipedia.org/wiki/J/psi_meson\">Check your answer for the first particle!</a> <a href=\"http://en.wikipedia.org/wiki/Upsilon_meson\">Check your answer for the second particle!</a> "
   ]
  },
  {
   "cell_type": "code",
   "execution_count": 4,
   "metadata": {
    "colab": {
     "base_uri": "https://localhost:8080/",
     "height": 341
    },
    "colab_type": "code",
    "executionInfo": {
     "elapsed": 224,
     "status": "ok",
     "timestamp": 1530027687965,
     "user": {
      "displayName": "Myrl Smith",
      "photoUrl": "https://lh3.googleusercontent.com/a/default-user=s128",
      "userId": "117924298492351559108"
     },
     "user_tz": 240
    },
    "id": "nRdNKhJBCRMh",
    "outputId": "ea676937-8391-4020-a309-3179eb00db8f"
   },
   "outputs": [
    {
     "data": {
      "text/html": [
       "<img src=\"https://raw.githubusercontent.com/particle-physics-playground/playground/master/activities/images/dimuons_sketch.jpeg\"/>"
      ],
      "text/plain": [
       "<IPython.core.display.Image object>"
      ]
     },
     "execution_count": 4,
     "metadata": {},
     "output_type": "execute_result"
    }
   ],
   "source": [
    "from IPython.display import Image\n",
    "Image(url='https://raw.githubusercontent.com/particle-physics-playground/playground/master/activities/images/dimuons_sketch.jpeg')"
   ]
  },
  {
   "cell_type": "code",
   "execution_count": 11,
   "metadata": {
    "colab": {},
    "colab_type": "code",
    "id": "4l3y5wWLCRMo"
   },
   "outputs": [
    {
     "name": "stdout",
     "output_type": "stream",
     "text": [
      "{'METy': 0.0, 'jets': [], 'photons': [], 'electrons': [], 'METx': 0.0, 'muons': [{'px': -1.95959, 'py': 2.80531, 'q': 1, 'e': 17.8132, 'pz': 17.4811}, {'px': 4.36523, 'py': 0.168017, 'q': 1, 'e': 9.42174, 'pz': 8.34713}]}\n"
     ]
    },
    {
     "data": {
      "image/png": "[encoded data removed]",
      "text/plain": [
       "<Figure size 432x288 with 1 Axes>"
      ]
     },
     "metadata": {
      "needs_background": "light"
     },
     "output_type": "display_data"
    }
   ],
   "source": [
    "import numpy as np\n",
    "import matplotlib.pyplot as plt\n",
    "\n",
    "e = []\n",
    "px = []\n",
    "py = []\n",
    "pz = []\n",
    "m = []\n",
    "\n",
    "print(collisions[3])\n",
    "\n",
    "for i in range(2):\n",
    "    e.append([])\n",
    "    px.append([])\n",
    "    py.append([])\n",
    "    pz.append([])\n",
    "    for j in range(len(collisions)):\n",
    "        e[i].append(collisions[j][\"muons\"][i][\"e\"])\n",
    "        px[i].append(collisions[j][\"muons\"][i][\"px\"])\n",
    "        py[i].append(collisions[j][\"muons\"][i][\"py\"])\n",
    "        pz[i].append(collisions[j][\"muons\"][i][\"pz\"])\n",
    "        \n",
    "\n",
    "for j in range(len(collisions)):\n",
    "    m.append(np.sqrt((e[0][j]+e[1][j])**2 -( (px[0][j]+px[1][j])**2 + (py[0][j]+py[1][j])**2 + (pz[0][j]+pz[1][j])**2 )))\n",
    "    \n",
    "plt.hist(m,bins=100,range=(min(m),max(m)))\n",
    "plt.show()"
   ]
  },
  {
   "cell_type": "markdown",
   "metadata": {
    "colab_type": "text",
    "id": "TUi7PgR6CRMt"
   },
   "source": [
    "#### Comments"
   ]
  },
  {
   "cell_type": "markdown",
   "metadata": {
    "colab_type": "text",
    "id": "4Kps3sGICRMu"
   },
   "source": [
    "Depending on which file you ran over, you may see hints of particles below 20 GeV/c$^2$. It is possible you see signs of other particles at even higher energies. Plot your masses over a wide range of values, but then zoom in (change the plotting range) on different mass ranges to see if you can identify these particles.  "
   ]
  }
 ],
 "metadata": {
  "colab": {
   "name": "activity01_CMS_dimuons.ipynb",
   "provenance": [],
   "version": "0.3.2"
  },
  "kernelspec": {
   "display_name": "Python 3",
   "language": "python",
   "name": "python3"
  },
  "language_info": {
   "codemirror_mode": {
    "name": "ipython",
    "version": 3
   },
   "file_extension": ".py",
   "mimetype": "text/x-python",
   "name": "python",
   "nbconvert_exporter": "python",
   "pygments_lexer": "ipython3",
   "version": "3.5.2"
  }
 },
 "nbformat": 4,
 "nbformat_minor": 1
}
