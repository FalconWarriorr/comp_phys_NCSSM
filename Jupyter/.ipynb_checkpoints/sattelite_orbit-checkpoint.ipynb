{
 "cells": [
  {
   "cell_type": "code",
   "execution_count": 20,
   "metadata": {},
   "outputs": [
    {
     "name": "stdout",
     "output_type": "stream",
     "text": [
      "0.5\n",
      "Sattelite will stay in orbit\n"
     ]
    }
   ],
   "source": [
    "\n",
    "\n",
    "m = 250\n",
    "Re = 6378e3\n",
    "Me = 5.972e24\n",
    "G = 6.67e-11\n",
    "\n",
    "def grav_pot_e(a):\n",
    "    return -G*Me*m/(a+Re)\n",
    "def kinetic_e(v):\n",
    "    return .5*m*(v**2)\n",
    "\n",
    "#a = float(input(\"What is the altitude of the sattelite: \"))\n",
    "#v = float(input(\"What is the speed of the sattelite: \"))\n",
    "\n",
    "a =1e6\n",
    "v = 7.3501376719059e3\n",
    "\n",
    "PE = grav_pot_e(a)\n",
    "KE = kinetic_e(v)\n",
    "\n",
    "print(round(-KE/PE, 3))\n",
    "if(round(KE/PE, 3) == -0.5):\n",
    "    print(\"Sattelite will stay in orbit\")\n",
    "elif(round(KE/PE, 3) > -0.5):\n",
    "    print(\"Sattelite will flyyyyyyyyyy away!\")\n",
    "else:\n",
    "    print(\"Sattelite will kill thousands on earth!\")\n"
   ]
  },
  {
   "cell_type": "code",
   "execution_count": null,
   "metadata": {},
   "outputs": [],
   "source": [
    "()"
   ]
  }
 ],
 "metadata": {
  "kernelspec": {
   "display_name": "Python 3",
   "language": "python",
   "name": "python3"
  },
  "language_info": {
   "codemirror_mode": {
    "name": "ipython",
    "version": 3
   },
   "file_extension": ".py",
   "mimetype": "text/x-python",
   "name": "python",
   "nbconvert_exporter": "python",
   "pygments_lexer": "ipython3",
   "version": "3.5.2"
  }
 },
 "nbformat": 4,
 "nbformat_minor": 2
}
