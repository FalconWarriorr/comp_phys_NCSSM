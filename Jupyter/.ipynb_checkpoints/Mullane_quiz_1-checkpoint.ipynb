{
 "cells": [
  {
   "cell_type": "markdown",
   "metadata": {},
   "source": [
    "## Quiz 1 - Niall Mullane"
   ]
  },
  {
   "cell_type": "code",
   "execution_count": 2,
   "metadata": {},
   "outputs": [
    {
     "name": "stdout",
     "output_type": "stream",
     "text": [
      "Enter a price: 0\n",
      "Cost is 0.0. Enter your payment: 1\n",
      "Your change is: 0 $5.00 bills 1 $1.00 bills 0 quarters 0 dimes 0 nickels and 0 pennies\n"
     ]
    }
   ],
   "source": [
    "tax = .048\n",
    "\n",
    "price = float(input(\"Enter a price: \"))\n",
    "\n",
    "total = round(price + price*tax, 2)\n",
    "\n",
    "cash = float(input(\"Cost is \" + str(total) + \". Enter your payment: \"))\n",
    "\n",
    "\n",
    "#$5, $1, .25, .10. .05. .01\n",
    "change = [0, 0, 0, 0, 0, 0]\n",
    "change_val = [5.0, 1.0, .25, .1, .05, .01]\n",
    "\n",
    "cash -= total\n",
    "if cash < 0:\n",
    "    print(\"You didn't give me enough money begone!\")\n",
    "else:\n",
    "    i = 0\n",
    "    while cash > 0.001:\n",
    "        if cash/change_val[i] >= 1:\n",
    "            change[i] = int(cash/change_val[i])\n",
    "            cash = cash % change_val[i]\n",
    "            change[i] = change[i]\n",
    "        change[i] = str(change[i])\n",
    "        i += 1\n",
    "    print(\"Your change is: \" + str(change[0]) + \" $5.00 bills \" + str(change[1]) + \" $1.00 bills \" + str(change[2]) + \" quarters \" + str(change[3]) + \" dimes \" + str(change[4]) + \" nickels and \" + str(change[5]) + \" pennies\")\n",
    " "
   ]
  }
 ],
 "metadata": {
  "kernelspec": {
   "display_name": "Python 3",
   "language": "python",
   "name": "python3"
  },
  "language_info": {
   "codemirror_mode": {
    "name": "ipython",
    "version": 3
   },
   "file_extension": ".py",
   "mimetype": "text/x-python",
   "name": "python",
   "nbconvert_exporter": "python",
   "pygments_lexer": "ipython3",
   "version": "3.5.2"
  }
 },
 "nbformat": 4,
 "nbformat_minor": 2
}
