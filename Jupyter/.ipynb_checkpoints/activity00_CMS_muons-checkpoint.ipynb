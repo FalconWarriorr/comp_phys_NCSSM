{
 "cells": [
  {
   "cell_type": "markdown",
   "metadata": {},
   "source": [
    "##   Author:  Niall Mullane\n",
    "###     PID:  99S380224\n",
    "##   Class:  PH412, Spring, 2018                                          \n",
    "###     Helpers:  Meekhel Patel\n",
    "\n",
    "##  Program:  CMS Muons                                     \n",
    "###     Due Date:  April 2, 2019                                               \n",
    "###     Language:  Python 3                 \n",
    "###     IDE:  Jupyter     \n",
    "\n",
    "##  Purpose:  Plotting real sediment data        \n",
    "##   \"Bugs\":  No major problems  \n"
   ]
  },
  {
   "cell_type": "markdown",
   "metadata": {
    "colab_type": "text",
    "id": "hX4Slau4BG5f"
   },
   "source": [
    "**How to save this notebook to your personal Drive**\n",
    "\n",
    "To copy this notebook to your Google Drive, go to File and select \"Save a copy in Drive\", where it will automatically open the copy in a new tab for you to work in. This notebook will be saved into a folder on your personal Drive called \"Colab Notebooks\".\n",
    "\n",
    "\n",
    "Still stumped? Check out <a href=\"https://www.youtube.com/watch?v=qaJ2UpMPXKk\"> this video</a> for help\n",
    "\n",
    "\n"
   ]
  },
  {
   "cell_type": "markdown",
   "metadata": {
    "colab_type": "text",
    "id": "clEqqOhrC2ng"
   },
   "source": [
    "# Relativistic kinematics"
   ]
  },
  {
   "cell_type": "markdown",
   "metadata": {
    "colab_type": "text",
    "id": "SyMLvX3SC2nj"
   },
   "source": [
    "<h3>Learning goals</h3>\n",
    "<ul>\n",
    "    <li>Relativistic kinematics.\n",
    "    <li>Standard model particles.\n",
    "</ul>"
   ]
  },
  {
   "cell_type": "markdown",
   "metadata": {
    "colab_type": "text",
    "id": "xXKjPEkqC2nm"
   },
   "source": [
    "<b>Background</b>\n",
    "\n",
    "If you know the mass of a particle, most of the time you know <i>what that particle is</i>. However, there is no way to just build a single detector that gives you the mass. You need to be clever and make use of Special relativity, specifically <a href=\"http://en.wikipedia.org/wiki/Relativistic_mechanics\">relativistic kinematics</a>.\n",
    "\n",
    "To determine the mass ($m$) of a particle you need to know the 4-momenta of the particles ($\\mathbf{P}$) that are detected after the collision: the energy ($E$), the momentum in the x direction ($p_x$), the momentum in the y direction ($p_y$), the momentum in the z direction ($p_z$).\n",
    "\n",
    "$$\\mathbf{P} = (E,p_x,p_y,p_z)$$\n",
    "\n",
    "\n",
    "\\begin{equation*} m = \\sqrt{E^2-(p_x^2+p_y^2 + p_z^2)} \\end{equation*}\n"
   ]
  },
  {
   "cell_type": "markdown",
   "metadata": {
    "colab_type": "text",
    "id": "tEBotUylC2nn"
   },
   "source": [
    "<b>Let's code!</b>\n",
    "\n",
    "Here is some sample code that reads in data from a small sample file from the <a href = \"http://cms.cern/\">CMS experiment</a>. It loops over data from many different proton-proton collisions. \n",
    "\n",
    "If you haven't already, you will want to go through the [Data Interfacing](https://colab.research.google.com/drive/1wMs8ffF8KjQhulL90_fCCVIZT5Q4e9x5) exercise so you know how to pull out the relevant information. \n",
    "\n",
    "For each collision, you can get the 4-momenta of the jets, muons, electrons, and photons produced in these collisions. \n",
    "\n"
   ]
  },
  {
   "cell_type": "markdown",
   "metadata": {
    "colab_type": "text",
    "id": "JoRzIWp-C2n1"
   },
   "source": [
    "<h2><font color=\"red\">Challenge!</font></h2>\n",
    "\n",
    "Copy this sample code and use it to calculate the mass of the muons. Make a histogram of this quantity. \n",
    "\n",
    "<i>Hint!</i>\n",
    "\n",
    "Make sure you do this for all the muons! Each collision can produce differing numbers of muons, so take care when you code this up."
   ]
  },
  {
   "cell_type": "code",
   "execution_count": 6,
   "metadata": {
    "colab": {},
    "colab_type": "code",
    "id": "ZlZXynvoC2np",
    "scrolled": true
   },
   "outputs": [
    {
     "name": "stdout",
     "output_type": "stream",
     "text": [
      "3.5.2\n",
      "fatal: destination path 'h5hep' already exists and is not an empty directory.\n",
      "Already up-to-date.\n",
      "running install\n",
      "running bdist_egg\n",
      "running egg_info\n",
      "writing requirements to particle_physics_simplified.egg-info/requires.txt\n",
      "writing particle_physics_simplified.egg-info/PKG-INFO\n",
      "writing top-level names to particle_physics_simplified.egg-info/top_level.txt\n",
      "writing dependency_links to particle_physics_simplified.egg-info/dependency_links.txt\n",
      "reading manifest file 'particle_physics_simplified.egg-info/SOURCES.txt'\n",
      "writing manifest file 'particle_physics_simplified.egg-info/SOURCES.txt'\n",
      "installing library code to build/bdist.linux-x86_64/egg\n",
      "running install_lib\n",
      "running build_py\n",
      "creating build/bdist.linux-x86_64/egg\n",
      "creating build/bdist.linux-x86_64/egg/pps_tools\n",
      "copying build/lib.linux-x86_64-2.7/pps_tools/test_babar.py -> build/bdist.linux-x86_64/egg/pps_tools\n",
      "copying build/lib.linux-x86_64-2.7/pps_tools/__init__.py -> build/bdist.linux-x86_64/egg/pps_tools\n",
      "copying build/lib.linux-x86_64-2.7/pps_tools/cms_tools.py -> build/bdist.linux-x86_64/egg/pps_tools\n",
      "copying build/lib.linux-x86_64-2.7/pps_tools/test_simplified_ppp_3D_viewer.py -> build/bdist.linux-x86_64/egg/pps_tools\n",
      "copying build/lib.linux-x86_64-2.7/pps_tools/read.py -> build/bdist.linux-x86_64/egg/pps_tools\n",
      "copying build/lib.linux-x86_64-2.7/pps_tools/visualize.py -> build/bdist.linux-x86_64/egg/pps_tools\n",
      "copying build/lib.linux-x86_64-2.7/pps_tools/cleo_tools.py -> build/bdist.linux-x86_64/egg/pps_tools\n",
      "copying build/lib.linux-x86_64-2.7/pps_tools/download.py -> build/bdist.linux-x86_64/egg/pps_tools\n",
      "copying build/lib.linux-x86_64-2.7/pps_tools/test_simplified_ppp_V2.py -> build/bdist.linux-x86_64/egg/pps_tools\n",
      "copying build/lib.linux-x86_64-2.7/pps_tools/test_simplified_ppp.py -> build/bdist.linux-x86_64/egg/pps_tools\n",
      "copying build/lib.linux-x86_64-2.7/pps_tools/test_simplified_ppp_CLEO.py -> build/bdist.linux-x86_64/egg/pps_tools\n",
      "copying build/lib.linux-x86_64-2.7/pps_tools/babar_tools.py -> build/bdist.linux-x86_64/egg/pps_tools\n",
      "byte-compiling build/bdist.linux-x86_64/egg/pps_tools/test_babar.py to test_babar.pyc\n",
      "byte-compiling build/bdist.linux-x86_64/egg/pps_tools/__init__.py to __init__.pyc\n",
      "byte-compiling build/bdist.linux-x86_64/egg/pps_tools/cms_tools.py to cms_tools.pyc\n",
      "byte-compiling build/bdist.linux-x86_64/egg/pps_tools/test_simplified_ppp_3D_viewer.py to test_simplified_ppp_3D_viewer.pyc\n",
      "byte-compiling build/bdist.linux-x86_64/egg/pps_tools/read.py to read.pyc\n",
      "byte-compiling build/bdist.linux-x86_64/egg/pps_tools/visualize.py to visualize.pyc\n",
      "byte-compiling build/bdist.linux-x86_64/egg/pps_tools/cleo_tools.py to cleo_tools.pyc\n",
      "byte-compiling build/bdist.linux-x86_64/egg/pps_tools/download.py to download.pyc\n",
      "byte-compiling build/bdist.linux-x86_64/egg/pps_tools/test_simplified_ppp_V2.py to test_simplified_ppp_V2.pyc\n",
      "byte-compiling build/bdist.linux-x86_64/egg/pps_tools/test_simplified_ppp.py to test_simplified_ppp.pyc\n",
      "byte-compiling build/bdist.linux-x86_64/egg/pps_tools/test_simplified_ppp_CLEO.py to test_simplified_ppp_CLEO.pyc\n",
      "byte-compiling build/bdist.linux-x86_64/egg/pps_tools/babar_tools.py to babar_tools.pyc\n",
      "creating build/bdist.linux-x86_64/egg/EGG-INFO\n",
      "copying particle_physics_simplified.egg-info/PKG-INFO -> build/bdist.linux-x86_64/egg/EGG-INFO\n",
      "copying particle_physics_simplified.egg-info/SOURCES.txt -> build/bdist.linux-x86_64/egg/EGG-INFO\n",
      "copying particle_physics_simplified.egg-info/dependency_links.txt -> build/bdist.linux-x86_64/egg/EGG-INFO\n",
      "copying particle_physics_simplified.egg-info/requires.txt -> build/bdist.linux-x86_64/egg/EGG-INFO\n",
      "copying particle_physics_simplified.egg-info/top_level.txt -> build/bdist.linux-x86_64/egg/EGG-INFO\n",
      "zip_safe flag not set; analyzing archive contents...\n",
      "creating 'dist/particle_physics_simplified-0.9-py2.7.egg' and adding 'build/bdist.linux-x86_64/egg' to it\n",
      "removing 'build/bdist.linux-x86_64/egg' (and everything under it)\n",
      "Processing particle_physics_simplified-0.9-py2.7.egg\n",
      "Removing /home/niallmullane/.local/lib/python2.7/site-packages/particle_physics_simplified-0.9-py2.7.egg\n",
      "Copying particle_physics_simplified-0.9-py2.7.egg to /home/niallmullane/.local/lib/python2.7/site-packages\n",
      "particle-physics-simplified 0.9 is already the active version in easy-install.pth\n",
      "\n",
      "Installed /home/niallmullane/.local/lib/python2.7/site-packages/particle_physics_simplified-0.9-py2.7.egg\n",
      "Processing dependencies for particle-physics-simplified==0.9\n",
      "Searching for h5hep\n",
      "Reading https://pypi.python.org/simple/h5hep/\n",
      "Couldn't find index page for 'h5hep' (maybe misspelled?)\n",
      "Scanning index of all packages (this may take a while)\n",
      "Reading https://pypi.python.org/simple/\n",
      "No local packages or download links found for h5hep\n",
      "error: Could not find suitable distribution for Requirement.parse('h5hep')\n"
     ]
    }
   ],
   "source": [
    "###### This cell need only be run once per session ##############\n",
    "###### Make sure your runtime type is Python 3 #########\n",
    "import platform\n",
    "print(platform.python_version())\n",
    "\n",
    "# Import h5hep from Github. This is to allow us to read these\n",
    "# particular files. \n",
    "!git  clone https://github.com/mattbellis/h5hep.git\n",
    "\n",
    "# Import custom tools package from Github. These are some simple accessor functions\n",
    "# to make it easier to work with these data files. \n",
    "!if [ ! -e particle_physics_simplified ]; then git  clone https://github.com/mattbellis/particle_physics_simplified.git; fi\n",
    "!cd particle_physics_simplified; git pull; python setup.py install --user\n",
    "\n",
    "# Note that the -q option in the above \"python setup.py ...\" commands suppresses\n",
    "# diagnostic output. So if you are having issues, you may want to remove the -q\n",
    "\n",
    "import pps_tools as pps\n",
    "import h5hep"
   ]
  },
  {
   "cell_type": "code",
   "execution_count": 2,
   "metadata": {
    "scrolled": true
   },
   "outputs": [
    {
     "name": "stdout",
     "output_type": "stream",
     "text": [
      "Collecting git+https://github.com/mattbellis/h5hep.git\n",
      "  Cloning https://github.com/mattbellis/h5hep.git to /tmp/pip-req-build-9t21x3ig\n",
      "Requirement already satisfied, skipping upgrade: numpy in /home/niallmullane/.local/lib/python3.5/site-packages (from h5hep==0.9) (1.15.2)\n",
      "Requirement already satisfied, skipping upgrade: h5py in /home/niallmullane/.local/lib/python3.5/site-packages (from h5hep==0.9) (2.9.0)\n",
      "Requirement already satisfied, skipping upgrade: six in /home/niallmullane/.local/lib/python3.5/site-packages (from h5py->h5hep==0.9) (1.11.0)\n",
      "Building wheels for collected packages: h5hep\n",
      "  Running setup.py bdist_wheel for h5hep ... \u001b[?25ldone\n",
      "\u001b[?25h  Stored in directory: /tmp/pip-ephem-wheel-cache-j0j8o479/wheels/1b/5b/88/a70717ae86e789eccefe91a5f3d068353d7dd93a372da84014\n",
      "Successfully built h5hep\n",
      "Installing collected packages: h5hep\n",
      "  Found existing installation: h5hep 0.9\n",
      "    Uninstalling h5hep-0.9:\n",
      "      Successfully uninstalled h5hep-0.9\n",
      "Successfully installed h5hep-0.9\n",
      "\u001b[33mYou are using pip version 18.0, however version 19.0.3 is available.\n",
      "You should consider upgrading via the 'pip install --upgrade pip' command.\u001b[0m\n",
      "Collecting git+https://github.com/mattbellis/particle_physics_simplified.git\n",
      "  Cloning https://github.com/mattbellis/particle_physics_simplified.git to /tmp/pip-req-build-3hme131q\n",
      "Requirement already satisfied, skipping upgrade: numpy in /home/niallmullane/.local/lib/python3.5/site-packages (from particle-physics-simplified==0.9) (1.15.2)\n",
      "Requirement already satisfied, skipping upgrade: h5py in /home/niallmullane/.local/lib/python3.5/site-packages (from particle-physics-simplified==0.9) (2.9.0)\n",
      "Requirement already satisfied, skipping upgrade: h5hep in /home/niallmullane/.local/lib/python3.5/site-packages (from particle-physics-simplified==0.9) (0.9)\n",
      "Requirement already satisfied, skipping upgrade: six in /home/niallmullane/.local/lib/python3.5/site-packages (from h5py->particle-physics-simplified==0.9) (1.11.0)\n",
      "Building wheels for collected packages: particle-physics-simplified\n",
      "  Running setup.py bdist_wheel for particle-physics-simplified ... \u001b[?25ldone\n",
      "\u001b[?25h  Stored in directory: /tmp/pip-ephem-wheel-cache-i_0tcyvw/wheels/1a/aa/e5/a3256c3dc3cbdff623e6512edecdf9d8e7f6139f4db50797eb\n",
      "Successfully built particle-physics-simplified\n",
      "Installing collected packages: particle-physics-simplified\n",
      "  Found existing installation: particle-physics-simplified 0.9\n",
      "    Uninstalling particle-physics-simplified-0.9:\n",
      "      Successfully uninstalled particle-physics-simplified-0.9\n",
      "Successfully installed particle-physics-simplified-0.9\n",
      "\u001b[33mYou are using pip version 18.0, however version 19.0.3 is available.\n",
      "You should consider upgrading via the 'pip install --upgrade pip' command.\u001b[0m\n"
     ]
    }
   ],
   "source": [
    "##\n",
    "\n",
    "!pip3 install git+https://github.com/mattbellis/h5hep.git --user --upgrade\n",
    "!pip3 install git+https://github.com/mattbellis/particle_physics_simplified.git --user --upgrade\n",
    "\n",
    "import h5hep\n",
    "import pps_tools as pps"
   ]
  },
  {
   "cell_type": "code",
   "execution_count": 4,
   "metadata": {
    "colab": {},
    "colab_type": "code",
    "id": "iXFgDnMl-930"
   },
   "outputs": [],
   "source": [
    "import pps_tools as pps\n",
    "import h5hep\n",
    "###### This cell need only be run once per session ############################\n",
    "\n",
    "# Fetch data file\n",
    "pps.download_from_drive('dimuons_1000_collisions.hdf5')\n"
   ]
  },
  {
   "cell_type": "code",
   "execution_count": 26,
   "metadata": {
    "colab": {},
    "colab_type": "code",
    "id": "WKYmX4fOp6sL"
   },
   "outputs": [
    {
     "name": "stdout",
     "output_type": "stream",
     "text": [
      "\n",
      "Building a simplified interface to the events...\n",
      "\n",
      "Building the indices...\n",
      "Built the indices!\n",
      "Data is read in and input file is closed.\n",
      "Reading in event  0\n"
     ]
    },
    {
     "data": {
      "image/png": "[encoded data removed]",
      "text/plain": [
       "<Figure size 432x288 with 1 Axes>"
      ]
     },
     "metadata": {
      "needs_background": "light"
     },
     "output_type": "display_data"
    }
   ],
   "source": [
    "import matplotlib.pyplot as plt\n",
    "import numpy as np\n",
    "from math import sqrt\n",
    "\n",
    "infile = 'data/dimuons_1000_collisions.hdf5'\n",
    "collisions = pps.get_collisions(infile,experiment='CMS',verbose=False)\n",
    "energies = np.array((0))\n",
    "momentums = np.array((0))\n",
    "\n",
    "for i in collisions:\n",
    "    muons = i['muons']\n",
    "    for muon in muons:\n",
    "        energies = np.append(energies, muon['e'])\n",
    "        momentums = np.append(momentums, sqrt(muon['px']**2+muon['py']**2++muon['pz']**2))\n",
    "\n",
    "masses = (np.power(momentums, 2)/2)\n",
    "#print(energies)\n",
    "plt.hist(energies,bins=50,range=(0,100))\n",
    "plt.show()"
   ]
  },
  {
   "cell_type": "markdown",
   "metadata": {
    "colab_type": "text",
    "id": "HXprgL6oC2n2"
   },
   "source": [
    "Your histogram should look something like the following sketch, though the peak will be at different values. \n",
    "\n",
    "The value of the peak, should be the mass of the particle <a href=\"http://en.wikipedia.org/wiki/Muon\">Check your answer!</a> \n",
    "\n",
    "You should also make histograms of the energy and magnitude of momentum ($|p|$). You should see a pretty wide range of values for these, and yet the mass is a very specific number.\n",
    "\n",
    "<b>NOTE: If you are getting an error saying that there is no module \"pps_tools\", go to Runtime, and then select Restart runtime. Also make sure that your runtime type is Python 3.</b>"
   ]
  },
  {
   "cell_type": "code",
   "execution_count": 4,
   "metadata": {
    "colab": {
     "base_uri": "https://localhost:8080/",
     "height": 341
    },
    "colab_type": "code",
    "id": "WjqWT_Q_C2n2",
    "outputId": "83cd107d-779a-4640-f867-48c5ddaed1fc"
   },
   "outputs": [
    {
     "data": {
      "text/html": [
       "<img src=\"https://raw.githubusercontent.com/particle-physics-playground/playground/master/activities/images/muons_sketch.jpeg\"/>"
      ],
      "text/plain": [
       "<IPython.core.display.Image object>"
      ]
     },
     "execution_count": 4,
     "metadata": {},
     "output_type": "execute_result"
    }
   ],
   "source": [
    "from IPython.display import Image\n",
    "Image(url='https://raw.githubusercontent.com/particle-physics-playground/playground/master/activities/images/muons_sketch.jpeg')"
   ]
  },
  {
   "cell_type": "code",
   "execution_count": 0,
   "metadata": {
    "colab": {},
    "colab_type": "code",
    "id": "RzrJUPHjC2n6"
   },
   "outputs": [],
   "source": []
  },
  {
   "cell_type": "markdown",
   "metadata": {
    "colab_type": "text",
    "id": "y8zCkjBrC2n8"
   },
   "source": [
    "Suppose we didn't know anything about special relativity and we tried calculating the mass from what we know about classical physics. \n",
    "\n",
    "$$KE = \\frac{1}{2}mv^2 \\qquad KE = \\frac{p^2}{2m} \\qquad m = \\frac{p^2}{2KE}$$\n",
    "\n",
    "Let's interpret the energy from the CMS data as the kinetic energy ($KE$). Use classical mechanics then to calculate the mass of the muon, given the energy/KE and the momentum. What does <b>that</b> histogram look like?\n",
    "\n",
    "*Your histogram should not look like the last one! We know that the Classical description of kinematics is not accurate for particle moving at high energies, so don't worry if the two histograms are different. That's the point!  :)*"
   ]
  },
  {
   "cell_type": "code",
   "execution_count": 67,
   "metadata": {
    "colab": {},
    "colab_type": "code",
    "id": "IcWXwGzlC2n-"
   },
   "outputs": [
    {
     "name": "stdout",
     "output_type": "stream",
     "text": [
      "\n",
      "Building a simplified interface to the events...\n",
      "\n",
      "Building the indices...\n",
      "Built the indices!\n",
      "Data is read in and input file is closed.\n",
      "Reading in event  0\n"
     ]
    },
    {
     "name": "stderr",
     "output_type": "stream",
     "text": [
      "/home/niallmullane/.local/lib/python3.5/site-packages/ipykernel_launcher.py:17: RuntimeWarning: invalid value encountered in float_power\n"
     ]
    },
    {
     "data": {
      "image/png": "[encoded data removed]",
      "text/plain": [
       "<Figure size 432x288 with 1 Axes>"
      ]
     },
     "metadata": {
      "needs_background": "light"
     },
     "output_type": "display_data"
    },
    {
     "name": "stderr",
     "output_type": "stream",
     "text": [
      "/home/niallmullane/.local/lib/python3.5/site-packages/ipykernel_launcher.py:22: RuntimeWarning: invalid value encountered in true_divide\n"
     ]
    },
    {
     "data": {
      "image/png": "[encoded data removed]",
      "text/plain": [
       "<Figure size 432x288 with 1 Axes>"
      ]
     },
     "metadata": {
      "needs_background": "light"
     },
     "output_type": "display_data"
    }
   ],
   "source": [
    "import matplotlib.pyplot as plt\n",
    "import numpy as np\n",
    "from math import sqrt\n",
    "\n",
    "infile = 'data/dimuons_1000_collisions.hdf5'\n",
    "collisions = pps.get_collisions(infile,experiment='CMS',verbose=False)\n",
    "energies = np.array((0))\n",
    "momentums = np.array((0))\n",
    "\n",
    "for i in collisions:\n",
    "    muons = i['muons']\n",
    "    for muon in muons:\n",
    "        energies = np.append(energies, muon['e'])\n",
    "        momentums = np.append(momentums, sqrt(muon['px']**2+muon['py']**2++muon['pz']**2))\n",
    "\n",
    "\n",
    "masses = np.float_power(np.power(energies, 2) - np.power(momentums,2), 0.5)\n",
    "#print(energies)\n",
    "plt.hist(masses,bins=50,range=(0.1045,0.1065))\n",
    "plt.xlabel(\"MasssssssssssssssssssssssssssssSETH\")\n",
    "plt.show()\n",
    "masses_classical = np.power(momentums, 2)/2/energies\n",
    "plt.hist(masses,bins=50,range=(0.1045,0.1065))\n",
    "plt.xlabel(\"MasssssssssssssssssssssssssssssSETH\")\n",
    "plt.show()"
   ]
  },
  {
   "cell_type": "code",
   "execution_count": 0,
   "metadata": {
    "colab": {},
    "colab_type": "code",
    "id": "PCULyMRqu9QJ"
   },
   "outputs": [],
   "source": []
  }
 ],
 "metadata": {
  "colab": {
   "collapsed_sections": [],
   "name": "activity00_CMS_muons.ipynb",
   "provenance": [],
   "version": "0.3.2"
  },
  "kernelspec": {
   "display_name": "Python 3",
   "language": "python",
   "name": "python3"
  },
  "language_info": {
   "codemirror_mode": {
    "name": "ipython",
    "version": 3
   },
   "file_extension": ".py",
   "mimetype": "text/x-python",
   "name": "python",
   "nbconvert_exporter": "python",
   "pygments_lexer": "ipython3",
   "version": "3.5.2"
  }
 },
 "nbformat": 4,
 "nbformat_minor": 1
}
