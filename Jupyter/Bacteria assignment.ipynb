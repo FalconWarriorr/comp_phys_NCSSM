{
 "cells": [
  {
   "cell_type": "markdown",
   "metadata": {},
   "source": [
    "## Assignment: Population Growth\t\t\t\t\tPID:99s380224\n",
    "\n",
    "Population growth for living organism can be simplified into a formula that is similar to that with which we determine the compound interest in a savings account.  It is based on a growth rate (r), an initial population (Ni), a special mathematical constant (e), which is called either Euler’s Number (NOT Euler’s constant, which is different) or Napier’s Constant (we’ll use 2.71828) , the time period (t) in which to determine the change in population size, and the final projected population (Nf).  We can calculate the new population using the formula  . As an example, if an initial population of bacteria is 39,000, If the bacteria follow an exponential growth pattern with rate r = 0.02, (a) what will be the population after 5 hours, and (b) what is the actual amount of growth as a percentage? \n",
    "(% growth = ((final – initial)/initial)*100% \n",
    "\n",
    "Ni = 39000\n",
    "r = 0.02\n",
    "t = 5\n",
    "e = use 2.71828\n",
    "\n",
    "### Checkpoint 1: Plan:\n",
    "\n",
    "Instantiate known variables\n",
    "\n",
    "Implement a while loop on t iterating up the population\n",
    "\n",
    "Calculate the growth as a percentage\n",
    "\n",
    "\n",
    "### Checkpoint 2: Pseudocode:\n",
    "\n",
    "Ni = 39000\n",
    "r = 0.02\n",
    "t = 5\n",
    "deltat = 0.001\n",
    "e = 2.71828\n",
    "\n",
    "while t > 0\n",
    "\n",
    "\tN = N*e^(rt)\n",
    "\tt -= deltat\n",
    "end\n",
    "growth_percentage = N-Ni / Ni * 100%"
   ]
  },
  {
   "cell_type": "code",
   "execution_count": 10,
   "metadata": {},
   "outputs": [
    {
     "name": "stdout",
     "output_type": "stream",
     "text": [
      "Final population:  43102 organisms\n",
      "Population growth: 10.517 %\n"
     ]
    }
   ],
   "source": [
    "Ni = 39000\n",
    "r = 0.02\n",
    "t = 5.0\n",
    "deltat = 0.001\n",
    "e = 2.71828\n",
    "\n",
    "N = Ni\n",
    "while t > 0:\n",
    "    N = N*e**(r*deltat)\n",
    "    t -= deltat\n",
    "    \n",
    "print(\"Final population: \", round(N), \"organisms\")\n",
    "print(\"Population growth:\", round((N-Ni)/Ni*100, 3), \"%\")"
   ]
  }
 ],
 "metadata": {
  "kernelspec": {
   "display_name": "Python 3",
   "language": "python",
   "name": "python3"
  },
  "language_info": {
   "codemirror_mode": {
    "name": "ipython",
    "version": 3
   },
   "file_extension": ".py",
   "mimetype": "text/x-python",
   "name": "python",
   "nbconvert_exporter": "python",
   "pygments_lexer": "ipython3",
   "version": "3.5.2"
  }
 },
 "nbformat": 4,
 "nbformat_minor": 2
}
