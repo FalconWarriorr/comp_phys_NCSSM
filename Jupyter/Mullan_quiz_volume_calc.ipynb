{
 "cells": [
  {
   "cell_type": "code",
   "execution_count": null,
   "metadata": {},
   "outputs": [],
   "source": [
    "##   Author:  Niall Mullane\n",
    "###     PID:  99S380224\n",
    "##   Class:  PH412, Spring, 2018                                          \n",
    "###     Helpers:  Meekhel Patel\n",
    "\n",
    "##  Program:  Volume calculator on quiz                                     \n",
    "###     Due Date:  April 2, 2019                                               \n",
    "###     Language:  Python 3                 \n",
    "###     IDE:  Jupyter     \n",
    "\n",
    "##  Purpose:  calculating the volume of different shapes       \n",
    "##   \"Bugs\":  No major problems  \n"
   ]
  },
  {
   "cell_type": "code",
   "execution_count": 3,
   "metadata": {},
   "outputs": [
    {
     "name": "stdout",
     "output_type": "stream",
     "text": [
      "Enter the object to determine the volume of (cube, prism, prism_irreg, cylinder, pyramid, cone, or sphere): pyramid\n",
      "The volume is: \n",
      "Enter base and height separated by commas: 4, 6\n",
      "8.0\n"
     ]
    }
   ],
   "source": [
    "import math\n",
    "\n",
    "def cube():\n",
    "    a = float(input(\"Enter side length: \"))\n",
    "    return a**3\n",
    "def prism():\n",
    "    a, b, c = input(\"Enter 3 side lengths separated by commas: \").split(',')\n",
    "    return float(a)*float(b)*float(c)\n",
    "def prism_irreg():\n",
    "    b, h = input(\"Enter base and height separated by commas: \").split(',')\n",
    "    return float(b)*float(h)\n",
    "def cylinder():\n",
    "    b, h = input(\"Enter base and height separated by commas: \").split(',')\n",
    "    return float(b)*float(h)\n",
    "def pyramid():\n",
    "    b, h = input(\"Enter base and height separated by commas: \").split(',')\n",
    "    return 1./3*float(b)*float(h)\n",
    "def cone():\n",
    "    r, h = input(\"Enter radius and height separated by commas: \").split(',')\n",
    "    return 1./3*math.pi*(float(r)**2)*float(h)\n",
    "def sphere():\n",
    "    r = float(input(\"Enter radius: \"))\n",
    "    return 4./3*math.pi*(r**3)\n",
    "\n",
    "object_ = (input(\"Enter the object to determine the volume of (cube, prism, prism_irreg, cylinder, pyramid, cone, or sphere): \"))\n",
    "\n",
    "print(\"The volume is: \")\n",
    "if object_ == \"cube\":\n",
    "    print(cube())\n",
    "elif object_ == \"prism\":\n",
    "    print(prism())\n",
    "elif object_ == \"prism_irreg\":\n",
    "    print(prism_irreg())\n",
    "elif object_ == \"cylinder\":\n",
    "    print(cylinder())\n",
    "elif object_ == \"pyramid\":\n",
    "    print(pyramid())\n",
    "elif object_ == \"cone\":\n",
    "    print(cone())\n",
    "elif object_ == \"sphere\":\n",
    "    print(sphere())"
   ]
  },
  {
   "cell_type": "code",
   "execution_count": null,
   "metadata": {},
   "outputs": [],
   "source": []
  }
 ],
 "metadata": {
  "kernelspec": {
   "display_name": "Python 3",
   "language": "python",
   "name": "python3"
  },
  "language_info": {
   "codemirror_mode": {
    "name": "ipython",
    "version": 3
   },
   "file_extension": ".py",
   "mimetype": "text/x-python",
   "name": "python",
   "nbconvert_exporter": "python",
   "pygments_lexer": "ipython3",
   "version": "3.5.2"
  }
 },
 "nbformat": 4,
 "nbformat_minor": 2
}
