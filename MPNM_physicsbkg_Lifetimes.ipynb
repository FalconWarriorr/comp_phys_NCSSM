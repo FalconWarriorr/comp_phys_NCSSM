{
  "nbformat": 4,
  "nbformat_minor": 0,
  "metadata": {
    "colab": {
      "name": "MPNM - physicsbkg_Lifetimes.ipynb",
      "version": "0.3.2",
      "provenance": [],
      "collapsed_sections": [],
      "include_colab_link": true
    },
    "kernelspec": {
      "display_name": "Python 2",
      "language": "python",
      "name": "python2"
    }
  },
  "cells": [
    {
      "cell_type": "markdown",
      "metadata": {
        "id": "view-in-github",
        "colab_type": "text"
      },
      "source": [
        "<a href=\"https://colab.research.google.com/github/FalconWarriorr/comp_phys_NCSSM/blob/master/MPNM_physicsbkg_Lifetimes.ipynb\" target=\"_parent\"><img src=\"https://colab.research.google.com/assets/colab-badge.svg\" alt=\"Open In Colab\"/></a>"
      ]
    },
    {
      "metadata": {
        "id": "tc0oq7SJqfjY",
        "colab_type": "text"
      },
      "cell_type": "markdown",
      "source": [
        "**How to save this notebook to your personal Drive**\n",
        "\n",
        "To copy this notebook to your Google Drive, go to File and select \"Save a copy in Drive\", where it will automatically open the copy in a new tab for you to work in. This notebook will be saved into a folder on your personal Drive called \"Colab Notebooks\".\n",
        "\n",
        "\n",
        "Still stumped? Check out <a href=\"https://www.youtube.com/watch?v=dQw4w9WgXcQ\"> this video</a> for help\n"
      ]
    },
    {
      "metadata": {
        "id": "NERDj-kiCsnQ",
        "colab_type": "text"
      },
      "cell_type": "markdown",
      "source": [
        "# Lifetimes"
      ]
    },
    {
      "metadata": {
        "id": "NeTLq3vHCsnU",
        "colab_type": "text"
      },
      "cell_type": "markdown",
      "source": [
        "<h3>Learning goals</h3>\n",
        "<ul>\n",
        "    <li>Relativistic kinematics.\n",
        "    <li>Standard model particles.\n",
        "    <li>Special Relativity.\n",
        "</ul>"
      ]
    },
    {
      "metadata": {
        "id": "C-ayqZLqCsnX",
        "colab_type": "text"
      },
      "cell_type": "markdown",
      "source": [
        "<b>Background</b>\n",
        "\n",
        "Every type of particle has different characteristics. They each have different masses, lifetimes, decay methods and many other properties. \n",
        "\n",
        "To find the distance a particle travels in one lifetime, you need to know the lifetime of the particle and the speed of the particle. Classically, the formula to find the distance travelled in one lifetime is $ d= vt. $ Where $v$ is the speed of light and $t$ is the time the particle lives before it decays. \n",
        "\n",
        "However, in many particle physics experiments, the particles are moving close to (but always less than!) the speed of light and this means that they experience [time dilation](https://en.wikipedia.org/wiki/Time_dilation), which means their internal clocks run more slowly. \n",
        "\n",
        "Suppose a particle lives for the length of time equal to its [mean lifetime](http://hyperphysics.phy-astr.gsu.edu/hbase/nuclear/meanlif.html). This quantity is defined in the particle's rest frame, which means that the time that we measure in the lab (in our particle physics experiment) is generally longer. The really useful quantity we are looking for is the flight-length: the distance the particle travels between the time it is created and the time it decays. This flight-length is longer in the lab, because of the time dilation effect. The distance measured in the lab is the [mean free path](http://geant4.web.cern.ch/geant4/G4UsersDocuments/UsersGuides/PhysicsReferenceManual/html/node13.html) and is given by\n",
        "\n",
        "$$d = \\gamma \\beta c \\tau$$\n",
        "\n",
        "where $\\beta = v/c$ and $\\gamma = \\frac{1}{\\sqrt{1-\\beta^2}}$."
      ]
    },
    {
      "metadata": {
        "id": "gpRMFx0yCsnb",
        "colab_type": "text"
      },
      "cell_type": "markdown",
      "source": [
        "<b>Let's code!</b>\n",
        "\n",
        "Here is a sample code that creates a table of the lifetime and distance traveled in one lifetime for three different particles, but the distance is calculated incorrectly. "
      ]
    },
    {
      "metadata": {
        "id": "xHHcN-5QCsnc",
        "colab_type": "code",
        "outputId": "7b04ac82-c0c5-4f29-877b-ed2eec76d2ff",
        "colab": {
          "base_uri": "https://localhost:8080/",
          "height": 68
        }
      },
      "cell_type": "code",
      "source": [
        "particles = [\"B+/-\",\"D+/-\",\"J/Psi\"]\n",
        "\n",
        "lifetimes = [1.4e-12, 1.64e-12, 7e-21]\n",
        "\n",
        "c = 3e8 # m/s\n",
        "\n",
        "v = c\n",
        "\n",
        "for p,l in zip(particles,lifetimes):\n",
        "    distance = v*l\n",
        "    print \"%-5s  lifetime=%4.2e s     distance traveled=%4.2e m\" % (p,l,distance)"
      ],
      "execution_count": 0,
      "outputs": [
        {
          "output_type": "stream",
          "text": [
            "B+/-   lifetime=1.40e-12 s     distance traveled=4.20e-04 m\n",
            "D+/-   lifetime=1.64e-12 s     distance traveled=4.92e-04 m\n",
            "J/Psi  lifetime=7.00e-21 s     distance traveled=2.10e-12 m\n"
          ],
          "name": "stdout"
        }
      ]
    },
    {
      "metadata": {
        "id": "xcIiJlToCsng",
        "colab_type": "text"
      },
      "cell_type": "markdown",
      "source": [
        "<h2><font color=\"red\">Challenge!</font></h2>\n",
        "\n",
        "Finish the table for every particle listed above with an output of the particle's name, the lifetime, the mass,  the momentum, and how far they travel in one lifetime assuming a momentum of 1 GeV/c, 10 GeV/c, and 100 GeV/c. You may need the following relativistic relationships. \n",
        "\n",
        "$$\\vec{\\beta} = \\frac{\\vec{pc}}{E} \\qquad \\qquad E^2 = (mc^2)^2 + (pc)^2$$"
      ]
    },
    {
      "metadata": {
        "id": "IblMgtuJCsnf",
        "colab_type": "text"
      },
      "cell_type": "markdown",
      "source": [
        "<h3>Particles</h3>\n",
        "<ul>\n",
        "<li>$\\mu^\\pm$\n",
        "    <li>$\\tau^\\pm$\n",
        "    <li>$\\pi^\\pm$\n",
        "    <li>$\\pi^0$\n",
        "    <li>$\\rho^0$\n",
        "    <li>$K^\\pm$\n",
        "    <li>$K^0_{\\rm short}$\n",
        "    <li>$K^0_{\\rm long}$\n",
        "    <li>$K^*(892)$\n",
        "    <li>$D^\\pm$\n",
        "    <li>$B^\\pm$\n",
        "    <li>$B0$\n",
        "    <li>$J/ \\psi$\n",
        "    <li>$\\Upsilon(1S)$\n",
        "    <li>proton\n",
        "    <li>neutron\n",
        "    <li>$\\Delta^+$\n",
        "    <li>$\\Lambda^0$\n",
        "    <li>$\\Lambda_c$\n",
        "</ul>"
      ]
    },
    {
      "metadata": {
        "id": "Ur16hEm5Csng",
        "colab_type": "code",
        "outputId": "96b1e1ae-e39d-4887-cb01-2b11d8cd601b",
        "colab": {
          "base_uri": "https://localhost:8080/",
          "height": 340
        }
      },
      "cell_type": "code",
      "source": [
        "particles = [\"mu+/-\", \"tau+/-\", \"pi+/-\", \"pi0\", \"rho0\", \"K+/-\", \"K0short\", \"K0long\", \"K*\", \"D+/-\", \"B+/-\", \"B0\", \"J/Psi\", \"Upsilon1S\", \"proton\", \"neutron\", \"Delta+\", \"Lambda0\", \"LambdaC\"]\n",
        "\n",
        "lifetimes = [2.197e-6, 2.9e-13, 2.6e-8, 8.4e-17, 4.5e-24, 1.24e-8, 8.95e-11, 5.1e-8, 1.39e-23, 1.06e-12, 1.5e-12, 1.5e-12, 8e-21, 1.3e-20, 2.1e29, 881.5, 5.6e-24, 2.6e-10, 2e-13]\n",
        "\n",
        "mass = [105.66, 1777, 140, 135, 775, 494, 498, 498, 892, 1870, 5280, 5280, 3097, 9460, 938, 940, 1232, 1116, 2281]\n",
        "\n",
        "for i in range(len(mass)):\n",
        "  mass[i] = mass[i]/1000.\n",
        "\n",
        "c = 3e8 # m/s\n",
        "\n",
        "v = c\n",
        "\n",
        "for p,l,m in zip(particles,lifetimes,mass):\n",
        "    distance = v*l\n",
        "    print \"%-5s       lifetime=%4.2e s     distance traveled=%4.2e m     mass = %4.2e GeV\" % (p,l,distance,m)"
      ],
      "execution_count": 0,
      "outputs": [
        {
          "output_type": "stream",
          "text": [
            "mu+/-       lifetime=2.20e-06 s     distance traveled=6.59e+02 m     mass = 1.06e-01 GeV\n",
            "tau+/-       lifetime=2.90e-13 s     distance traveled=8.70e-05 m     mass = 1.78e+00 GeV\n",
            "pi+/-       lifetime=2.60e-08 s     distance traveled=7.80e+00 m     mass = 1.40e-01 GeV\n",
            "pi0         lifetime=8.40e-17 s     distance traveled=2.52e-08 m     mass = 1.35e-01 GeV\n",
            "rho0        lifetime=4.50e-24 s     distance traveled=1.35e-15 m     mass = 7.75e-01 GeV\n",
            "K+/-        lifetime=1.24e-08 s     distance traveled=3.72e+00 m     mass = 4.94e-01 GeV\n",
            "K0short       lifetime=8.95e-11 s     distance traveled=2.68e-02 m     mass = 4.98e-01 GeV\n",
            "K0long       lifetime=5.10e-08 s     distance traveled=1.53e+01 m     mass = 4.98e-01 GeV\n",
            "K*          lifetime=1.39e-23 s     distance traveled=4.17e-15 m     mass = 8.92e-01 GeV\n",
            "D+/-        lifetime=1.06e-12 s     distance traveled=3.18e-04 m     mass = 1.87e+00 GeV\n",
            "B+/-        lifetime=1.50e-12 s     distance traveled=4.50e-04 m     mass = 5.28e+00 GeV\n",
            "B0          lifetime=1.50e-12 s     distance traveled=4.50e-04 m     mass = 5.28e+00 GeV\n",
            "J/Psi       lifetime=8.00e-21 s     distance traveled=2.40e-12 m     mass = 3.10e+00 GeV\n",
            "Upsilon1S       lifetime=1.30e-20 s     distance traveled=3.90e-12 m     mass = 9.46e+00 GeV\n",
            "proton       lifetime=2.10e+29 s     distance traveled=6.30e+37 m     mass = 9.38e-01 GeV\n",
            "neutron       lifetime=8.82e+02 s     distance traveled=2.64e+11 m     mass = 9.40e-01 GeV\n",
            "Delta+       lifetime=5.60e-24 s     distance traveled=1.68e-15 m     mass = 1.23e+00 GeV\n",
            "Lambda0       lifetime=2.60e-10 s     distance traveled=7.80e-02 m     mass = 1.12e+00 GeV\n",
            "LambdaC       lifetime=2.00e-13 s     distance traveled=6.00e-05 m     mass = 2.28e+00 GeV\n"
          ],
          "name": "stdout"
        }
      ]
    },
    {
      "metadata": {
        "id": "7Il0y90qCsnj",
        "colab_type": "text"
      },
      "cell_type": "markdown",
      "source": [
        "The scale of many modern physics detectors ranges from the order of centimeters to 10's of meters. Given that information, what particles do you think will actually live long enough to travel <i>through</i> parts of the detector?"
      ]
    },
    {
      "metadata": {
        "id": "KXZG1UbpCsnj",
        "colab_type": "code",
        "outputId": "74527de9-ebf2-4668-ca23-68ac2efc097a",
        "colab": {
          "base_uri": "https://localhost:8080/",
          "height": 153
        }
      },
      "cell_type": "code",
      "source": [
        "for i in range(len(particles)):\n",
        "  if(v*lifetimes[i] > 0.01):\n",
        "    print(particles[i])"
      ],
      "execution_count": 0,
      "outputs": [
        {
          "output_type": "stream",
          "text": [
            "mu+/-\n",
            "pi+/-\n",
            "K+/-\n",
            "K0short\n",
            "K0long\n",
            "proton\n",
            "neutron\n",
            "Lambda0\n"
          ],
          "name": "stdout"
        }
      ]
    },
    {
      "metadata": {
        "id": "8PBdTDdKCsnl",
        "colab_type": "text"
      },
      "cell_type": "markdown",
      "source": [
        "Which particles will decay (on average) before they reach the detectors? This means that these particles have to be reconstructed from their decay products. \n"
      ]
    },
    {
      "metadata": {
        "id": "_vePM7moCsnm",
        "colab_type": "code",
        "outputId": "16e4f990-735b-4452-9cc9-3d62394709f0",
        "colab": {
          "base_uri": "https://localhost:8080/",
          "height": 204
        }
      },
      "cell_type": "code",
      "source": [
        "for i in range(len(particles)):\n",
        "  if(v*lifetimes[i] < 0.01):\n",
        "    print(particles[i])"
      ],
      "execution_count": 0,
      "outputs": [
        {
          "output_type": "stream",
          "text": [
            "tau+/-\n",
            "pi0\n",
            "rho0\n",
            "K*\n",
            "D+/-\n",
            "B+/-\n",
            "B0\n",
            "J/Psi\n",
            "Upsilon1S\n",
            "Delta+\n",
            "LambdaC\n"
          ],
          "name": "stdout"
        }
      ]
    },
    {
      "metadata": {
        "id": "JTZ507aGCsno",
        "colab_type": "text"
      },
      "cell_type": "markdown",
      "source": [
        "Make a plot where the x-axis is the names of the above particles (or a number corresponding to each, where the number/particle relationship is clearly identified) and the y-axis is the lifetime of the particle. Color code the data points according to whether the primary decay is EM, weak, or strong. {\\it Do not plot the proton and neutron on this plot}. Do you see the \"pattern\"? You may need to use a log-scale for the y-axis. "
      ]
    },
    {
      "metadata": {
        "id": "WQujhr9ICsnp",
        "colab_type": "code",
        "colab": {}
      },
      "cell_type": "code",
      "source": [
        "# Your code here"
      ],
      "execution_count": 0,
      "outputs": []
    }
  ]
}